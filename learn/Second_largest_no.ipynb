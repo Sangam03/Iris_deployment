{
 "cells": [
  {
   "cell_type": "code",
   "execution_count": null,
   "id": "c56c7c02",
   "metadata": {},
   "outputs": [],
   "source": [
    "n = int(input(\"Enter length of list:- \"))\n",
    "Lis1 = []\n",
    "for i in range(1,n+1):\n",
    "    e = int(input(\"Enter no:- \"))\n",
    "    Lis1.append(e)\n",
    "print(\"List given by user:- \",Lis1)\n",
    "Lis2 = list(set(Lis1))\n",
    "Lis2.sort()\n",
    "print(\"Second largers no in list\",Lis2[-2])"
   ]
  }
 ],
 "metadata": {
  "kernelspec": {
   "display_name": "Python 3 (ipykernel)",
   "language": "python",
   "name": "python3"
  },
  "language_info": {
   "codemirror_mode": {
    "name": "ipython",
    "version": 3
   },
   "file_extension": ".py",
   "mimetype": "text/x-python",
   "name": "python",
   "nbconvert_exporter": "python",
   "pygments_lexer": "ipython3",
   "version": "3.9.12"
  }
 },
 "nbformat": 4,
 "nbformat_minor": 5
}
